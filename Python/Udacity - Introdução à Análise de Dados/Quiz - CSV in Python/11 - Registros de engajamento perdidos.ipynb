{
 "cells": [
  {
   "cell_type": "code",
   "execution_count": 18,
   "metadata": {},
   "outputs": [],
   "source": [
    "import unicodecsv\n",
    "\n",
    "def le_csv(arquivo):\n",
    "    with open(arquivo, 'rb') as f:\n",
    "        reader = unicodecsv.DictReader(f)\n",
    "        return list(reader)\n",
    "    \n",
    "enrollments = le_csv('enrollments.csv')    \n",
    "daily_engagements = le_csv('daily_engagement.csv')"
   ]
  },
  {
   "cell_type": "code",
   "execution_count": 19,
   "metadata": {},
   "outputs": [
    {
     "data": {
      "text/plain": [
       "OrderedDict([('account_key', '448'),\n",
       "             ('status', 'canceled'),\n",
       "             ('join_date', '2014-11-10'),\n",
       "             ('cancel_date', '2015-01-14'),\n",
       "             ('days_to_cancel', '65'),\n",
       "             ('is_udacity', 'True'),\n",
       "             ('is_canceled', 'True')])"
      ]
     },
     "execution_count": 19,
     "metadata": {},
     "output_type": "execute_result"
    }
   ],
   "source": [
    "enrollments[0]"
   ]
  },
  {
   "cell_type": "code",
   "execution_count": 20,
   "metadata": {},
   "outputs": [
    {
     "data": {
      "text/plain": [
       "1237"
      ]
     },
     "execution_count": 20,
     "metadata": {},
     "output_type": "execute_result"
    }
   ],
   "source": [
    "#Quantidade de alunos únicos daily_engagements.csv\n",
    "unique_daily_engagement_students = set()\n",
    "for record in daily_engagements:\n",
    "    unique_daily_engagement_students.add(record['acct'])\n",
    "len(unique_daily_engagement_students)"
   ]
  },
  {
   "cell_type": "code",
   "execution_count": 25,
   "metadata": {},
   "outputs": [
    {
     "name": "stdout",
     "output_type": "stream",
     "text": [
      "OrderedDict([('account_key', '1219'), ('status', 'canceled'), ('join_date', '2014-11-12'), ('cancel_date', '2014-11-12'), ('days_to_cancel', '0'), ('is_udacity', 'False'), ('is_canceled', 'True')])\n"
     ]
    }
   ],
   "source": [
    "for enrollment in enrollments:\n",
    "    student = enrollment['account_key']\n",
    "    if student not in unique_daily_engagement_students:\n",
    "        print(enrollment)\n",
    "        break"
   ]
  },
  {
   "cell_type": "code",
   "execution_count": 47,
   "metadata": {},
   "outputs": [
    {
     "name": "stdout",
     "output_type": "stream",
     "text": [
      "71\n"
     ]
    }
   ],
   "source": [
    "#conta quantos alunos não estão\n",
    "contador = 0\n",
    "lista_account_key = []\n",
    "\n",
    "for enrollment in enrollments:\n",
    "    student = enrollment['account_key']\n",
    "    if student not in unique_daily_engagement_students:\n",
    "        contador = contador + 1\n",
    "        #print(student)\n",
    "        lista_account_key.append(int(student))\n",
    "print(contador)"
   ]
  },
  {
   "cell_type": "code",
   "execution_count": 74,
   "metadata": {},
   "outputs": [],
   "source": [
    "lista_account_key.sort()"
   ]
  },
  {
   "cell_type": "markdown",
   "metadata": {},
   "source": [
    "Visualiza na lista os registros que estão repetidos"
   ]
  },
  {
   "cell_type": "code",
   "execution_count": 67,
   "metadata": {},
   "outputs": [
    {
     "data": {
      "text/plain": [
       "[654,\n",
       " 654,\n",
       " 654,\n",
       " 664,\n",
       " 707,\n",
       " 711,\n",
       " 717,\n",
       " 725,\n",
       " 727,\n",
       " 728,\n",
       " 733,\n",
       " 737,\n",
       " 739,\n",
       " 749,\n",
       " 750,\n",
       " 766,\n",
       " 789,\n",
       " 799,\n",
       " 802,\n",
       " 803,\n",
       " 817,\n",
       " 819,\n",
       " 819,\n",
       " 841,\n",
       " 870,\n",
       " 871,\n",
       " 875,\n",
       " 878,\n",
       " 884,\n",
       " 889,\n",
       " 902,\n",
       " 914,\n",
       " 914,\n",
       " 926,\n",
       " 964,\n",
       " 968,\n",
       " 981,\n",
       " 996,\n",
       " 997,\n",
       " 1010,\n",
       " 1025,\n",
       " 1044,\n",
       " 1063,\n",
       " 1069,\n",
       " 1079,\n",
       " 1086,\n",
       " 1101,\n",
       " 1120,\n",
       " 1125,\n",
       " 1129,\n",
       " 1129,\n",
       " 1145,\n",
       " 1148,\n",
       " 1155,\n",
       " 1171,\n",
       " 1186,\n",
       " 1190,\n",
       " 1191,\n",
       " 1213,\n",
       " 1218,\n",
       " 1219,\n",
       " 1222,\n",
       " 1237,\n",
       " 1238,\n",
       " 1241,\n",
       " 1270,\n",
       " 1273,\n",
       " 1284,\n",
       " 1291,\n",
       " 1304,\n",
       " 1304]"
      ]
     },
     "execution_count": 67,
     "metadata": {},
     "output_type": "execute_result"
    }
   ],
   "source": [
    "lista_account_key"
   ]
  },
  {
   "cell_type": "code",
   "execution_count": 75,
   "metadata": {},
   "outputs": [
    {
     "data": {
      "text/plain": [
       "71"
      ]
     },
     "execution_count": 75,
     "metadata": {},
     "output_type": "execute_result"
    }
   ],
   "source": [
    "len(lista_account_key)"
   ]
  },
  {
   "cell_type": "markdown",
   "metadata": {},
   "source": [
    "Cria uma lista com os account_key repetidos"
   ]
  },
  {
   "cell_type": "code",
   "execution_count": 76,
   "metadata": {},
   "outputs": [],
   "source": [
    "repetead = ['654', '1304']"
   ]
  },
  {
   "cell_type": "markdown",
   "metadata": {},
   "source": [
    "Cria uma lista sem as repetições"
   ]
  },
  {
   "cell_type": "code",
   "execution_count": 70,
   "metadata": {},
   "outputs": [],
   "source": [
    "sem_repetidos = list(set(lista_account_key) - set(repetead))"
   ]
  },
  {
   "cell_type": "code",
   "execution_count": 77,
   "metadata": {},
   "outputs": [
    {
     "data": {
      "text/plain": [
       "65"
      ]
     },
     "execution_count": 77,
     "metadata": {},
     "output_type": "execute_result"
    }
   ],
   "source": [
    "len(sem_repetidos)"
   ]
  },
  {
   "cell_type": "markdown",
   "metadata": {},
   "source": [
    "Agora a diferença bate com a encontrada no capítulo 9"
   ]
  },
  {
   "cell_type": "code",
   "execution_count": 72,
   "metadata": {},
   "outputs": [],
   "source": [
    "sem_repetidos.sort()"
   ]
  },
  {
   "cell_type": "code",
   "execution_count": 73,
   "metadata": {},
   "outputs": [
    {
     "data": {
      "text/plain": [
       "[654,\n",
       " 664,\n",
       " 707,\n",
       " 711,\n",
       " 717,\n",
       " 725,\n",
       " 727,\n",
       " 728,\n",
       " 733,\n",
       " 737,\n",
       " 739,\n",
       " 749,\n",
       " 750,\n",
       " 766,\n",
       " 789,\n",
       " 799,\n",
       " 802,\n",
       " 803,\n",
       " 817,\n",
       " 819,\n",
       " 841,\n",
       " 870,\n",
       " 871,\n",
       " 875,\n",
       " 878,\n",
       " 884,\n",
       " 889,\n",
       " 902,\n",
       " 914,\n",
       " 926,\n",
       " 964,\n",
       " 968,\n",
       " 981,\n",
       " 996,\n",
       " 997,\n",
       " 1010,\n",
       " 1025,\n",
       " 1044,\n",
       " 1063,\n",
       " 1069,\n",
       " 1079,\n",
       " 1086,\n",
       " 1101,\n",
       " 1120,\n",
       " 1125,\n",
       " 1129,\n",
       " 1145,\n",
       " 1148,\n",
       " 1155,\n",
       " 1171,\n",
       " 1186,\n",
       " 1190,\n",
       " 1191,\n",
       " 1213,\n",
       " 1218,\n",
       " 1219,\n",
       " 1222,\n",
       " 1237,\n",
       " 1238,\n",
       " 1241,\n",
       " 1270,\n",
       " 1273,\n",
       " 1284,\n",
       " 1291,\n",
       " 1304]"
      ]
     },
     "execution_count": 73,
     "metadata": {},
     "output_type": "execute_result"
    }
   ],
   "source": [
    "sem_repetidos"
   ]
  }
 ],
 "metadata": {
  "kernelspec": {
   "display_name": "Python 3",
   "language": "python",
   "name": "python3"
  },
  "language_info": {
   "codemirror_mode": {
    "name": "ipython",
    "version": 3
   },
   "file_extension": ".py",
   "mimetype": "text/x-python",
   "name": "python",
   "nbconvert_exporter": "python",
   "pygments_lexer": "ipython3",
   "version": "3.7.0"
  }
 },
 "nbformat": 4,
 "nbformat_minor": 2
}
